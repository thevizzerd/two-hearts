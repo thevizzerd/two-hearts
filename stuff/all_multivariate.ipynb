{
 "cells": [
  {
   "cell_type": "markdown",
   "id": "03c65087-5f2c-4961-bc76-51024044c453",
   "metadata": {
    "tags": []
   },
   "source": [
    "Whole Analysis of Univariate Time Series with LSTM"
   ]
  },
  {
   "cell_type": "code",
   "execution_count": 1,
   "id": "3243f65b-5e9f-45ba-82d0-73733074e207",
   "metadata": {},
   "outputs": [],
   "source": [
    "# for Neurokit2:\n",
    "\n",
    "import warnings\n",
    "warnings.filterwarnings('ignore')\n",
    "\n",
    "# Load NeuroKit and other useful packages\n",
    "import neurokit2 as nk\n",
    "import numpy as np\n",
    "import pandas as pd\n",
    "import seaborn as sns\n",
    "import matplotlib.pyplot as plt\n",
    "%matplotlib inline\n",
    "#plt.rcParams['figure.figsize'] = [10, 6]  # Bigger images\n",
    "\n",
    "# for Tensorflow:\n",
    "\n",
    "import os\n",
    "import datetime\n",
    "\n",
    "import IPython\n",
    "import IPython.display\n",
    "import matplotlib as mpl\n",
    "import matplotlib.pyplot as plt\n",
    "import numpy as np\n",
    "import pandas as pd\n",
    "import seaborn as sns\n",
    "import tensorflow as tf\n",
    "\n",
    "mpl.rcParams['figure.figsize'] = (8, 6)\n",
    "mpl.rcParams['axes.grid'] = False"
   ]
  },
  {
   "cell_type": "markdown",
   "id": "5e291926-573e-4b10-9b4c-c526e67bddd3",
   "metadata": {},
   "source": [
    "# Simulate Data\n",
    "## Raw Data (all that is needed for now)"
   ]
  },
  {
   "cell_type": "code",
   "execution_count": 18,
   "id": "847f737c-0524-4b4c-abfd-bc3fb5a87e17",
   "metadata": {},
   "outputs": [
    {
     "name": "stdout",
     "output_type": "stream",
     "text": [
      "<class 'numpy.ndarray'>\n"
     ]
    },
    {
     "data": {
      "image/png": "[encoded data removed]",
      "text/plain": [
       "<Figure size 576x432 with 1 Axes>"
      ]
     },
     "metadata": {
      "needs_background": "light"
     },
     "output_type": "display_data"
    }
   ],
   "source": [
    "# n = 1, 1.000 s, 100 Hz\n",
    "ecg = nk.ecg_simulate(duration=100, sampling_rate=100, noise=0.0, heart_rate=60, heart_rate_std=0, method='ecgsyn') # Alternate heart rate and noise levels\n",
    "\n",
    "print(type(ecg))\n",
    "\n",
    "nk.signal_plot(ecg[100:210])\n",
    "#plt.plot(sample_raw[:30000]) #it's the same"
   ]
  },
  {
   "cell_type": "markdown",
   "id": "5839df84-f4b4-4f17-bccd-a86869132f2a",
   "metadata": {
    "jp-MarkdownHeadingCollapsed": true,
    "tags": []
   },
   "source": [
    "## Data Processing"
   ]
  },
  {
   "cell_type": "markdown",
   "id": "b80cf95f-482e-4737-b1e0-34815bab8102",
   "metadata": {
    "tags": []
   },
   "source": [
    "What is needed:\n",
    "- ECG_Raw\n",
    "- ECG_Clean\n",
    "- ECG_Rate\n",
    "- ECG_Quality\n",
    "- ECG_R_Peaks\n",
    "\n",
    "-> ecg_clean ecg_peaks ecg_quality\n",
    "\n",
    "\n",
    "\n",
    "ecg_simulate(duration=10, length=None, sampling_rate=1000, noise=0.01, heart_rate=70, heart_rate_std=1, method='ecgsyn', random_state=None)\n",
    "\n",
    "ecg_clean(ecg_signal, sampling_rate=1000, method='neurokit')\n",
    "\n",
    " ecg_rate(peaks, sampling_rate=1000, desired_length=None, interpolation_method='monotone_cubic')\n",
    " \n",
    "  ecg_quality(ecg_cleaned, rpeaks=None, sampling_rate=1000, method='averageQRS', approach=None)\n",
    "  \n",
    "  \n",
    "  \n",
    " ecg_peaks(ecg_cleaned, sampling_rate=1000, method='neurokit', correct_artifacts=False)\n",
    " \n",
    " ecg_segment(ecg_cleaned, rpeaks=None, sampling_rate=1000, show=False)\n",
    " \n",
    " \n",
    " \n",
    " ecg_plot(ecg_signals, rpeaks=None, sampling_rate=None, show_type='default')"
   ]
  },
  {
   "cell_type": "markdown",
   "id": "ccfde391-977d-46ca-b03f-fa3e97cff47f",
   "metadata": {
    "tags": []
   },
   "source": [
    "#Default processing pipeline\n",
    "signals, info = nk.ecg_process(sample_raw, sampling_rate=1000)\n",
    "\n",
    "signals2 = nk.ecg_intervalrelated(signals, sampling_rate=1000)\n",
    "\n",
    "signals.head()\n"
   ]
  },
  {
   "cell_type": "markdown",
   "id": "e7aa2553-50d7-439f-b3c4-036f062fb480",
   "metadata": {
    "tags": []
   },
   "source": [
    "#Visualize\n",
    "ecg_df = pd.DataFrame({\"Raw\": signals[\"ECG_Raw\"],\n",
    "                       \"Processed\": signals[\"ECG_Clean\"]})\n",
    "\n",
    "#nk.signal_plot(ecg_df[:30000], subplots=True)\n",
    "nk.ecg_plot(ecg_df[:30000])"
   ]
  },
  {
   "cell_type": "markdown",
   "id": "3afb31cc-e7a9-43e9-925e-10f8a938d1b7",
   "metadata": {
    "tags": []
   },
   "source": [
    "ecg2 = signals[\"ECG_Clean\"].tolist()\n",
    "\n",
    "print(ecg2[:30])\n",
    "plt.plot(ecg[1000:10000])\n",
    "plt.plot(ecg2[980:9980])"
   ]
  },
  {
   "cell_type": "markdown",
   "id": "4450ea02-75bb-423b-8955-e8a581de599e",
   "metadata": {
    "tags": []
   },
   "source": [
    "# LSTM"
   ]
  },
  {
   "cell_type": "code",
   "execution_count": 3,
   "id": "84304466-ee95-400f-89c2-9ffd588e66d3",
   "metadata": {},
   "outputs": [
    {
     "data": {
      "text/plain": [
       "10000"
      ]
     },
     "execution_count": 3,
     "metadata": {},
     "output_type": "execute_result"
    }
   ],
   "source": [
    "len(ecg)"
   ]
  },
  {
   "cell_type": "code",
   "execution_count": 4,
   "id": "cadc15b5-2b32-4dc8-988d-b3b6e0b30aac",
   "metadata": {},
   "outputs": [],
   "source": [
    "# Code from Brownlee 2018\n",
    "\n",
    "# univariate multi-step vector-output stacked lstm example\n",
    "from numpy import array\n",
    "import tensorflow as tf\n",
    "from tensorflow import keras\n",
    "from tensorflow.keras.models import Sequential\n",
    "from tensorflow.keras.layers import LSTM\n",
    "from tensorflow.keras.layers import Dense"
   ]
  },
  {
   "cell_type": "code",
   "execution_count": 5,
   "id": "17e314b0-7055-4bd2-8507-20f4906f83ec",
   "metadata": {},
   "outputs": [
    {
     "name": "stdout",
     "output_type": "stream",
     "text": [
      "10000\n",
      "(9891, 100) (9891, 10)\n"
     ]
    }
   ],
   "source": [
    "# split a univariate sequence into samples\n",
    "def split_sequence(sequence, n_steps_in, n_steps_out):\n",
    "    X, y = list(), list()\n",
    "    for i in range(len(sequence)):\n",
    "        # find the end of this pattern\n",
    "        end_ix = i + n_steps_in\n",
    "        out_end_ix = end_ix + n_steps_out\n",
    "        # check if we are beyond the sequence\n",
    "        if out_end_ix > len(sequence):\n",
    "            break\n",
    "        # gather input and output parts of the pattern\n",
    "        seq_x, seq_y = sequence[i:end_ix], sequence[end_ix:out_end_ix]\n",
    "        X.append(seq_x)\n",
    "        y.append(seq_y)\n",
    "    return array(X), array(y)\n",
    "\n",
    "# choose a number of time steps\n",
    "n_steps_in, n_steps_out = 100, 10\n",
    "# split into samples\n",
    "X, y = split_sequence(ecg, n_steps_in, n_steps_out)\n",
    "# summarize the data\n",
    "print(len(ecg))\n",
    "print(X.shape,y.shape)"
   ]
  },
  {
   "cell_type": "markdown",
   "id": "162d53c8-61cb-4333-b1c4-a85e681ac6c8",
   "metadata": {},
   "source": [
    "\"The LSTM expects data to have a three-dimensional structure of [samples, timesteps, features]\""
   ]
  },
  {
   "cell_type": "code",
   "execution_count": 6,
   "id": "8ca71c9b-f885-4577-b490-a02da8cc0244",
   "metadata": {},
   "outputs": [
    {
     "name": "stdout",
     "output_type": "stream",
     "text": [
      "(9891, 100, 1) (9891, 10, 1)\n"
     ]
    }
   ],
   "source": [
    "# reshape from [samples, timesteps] into [samples, timesteps, features]\n",
    "n_features = 1\n",
    "X = X.reshape((X.shape[0], X.shape[1], n_features))\n",
    "y = y.reshape((y.shape[0], y.shape[1], n_features))\n",
    "print(X.shape,y.shape)"
   ]
  },
  {
   "cell_type": "code",
   "execution_count": 7,
   "id": "62a16a73-0bb5-4f7e-8d57-bc2af62d18e3",
   "metadata": {},
   "outputs": [
    {
     "data": {
      "text/plain": [
       "<tensorflow.python.keras.callbacks.History at 0x11566d2dc70>"
      ]
     },
     "execution_count": 7,
     "metadata": {},
     "output_type": "execute_result"
    }
   ],
   "source": [
    "# define model\n",
    "model = Sequential()\n",
    "model.add(LSTM(20, activation='relu', return_sequences=True, input_shape=(n_steps_in,n_features)))\n",
    "model.add(LSTM(20, activation='relu'))\n",
    "model.add(Dense(n_steps_out))\n",
    "model.compile(optimizer='adam', loss='mse')\n",
    "# fit model\n",
    "model.fit(X, y, epochs=5, verbose=0)"
   ]
  },
  {
   "cell_type": "code",
   "execution_count": null,
   "id": "f7cfe58c-a20a-4ba1-8512-fdd6b63d7a96",
   "metadata": {},
   "outputs": [],
   "source": []
  },
  {
   "cell_type": "code",
   "execution_count": 8,
   "id": "822022d4-7583-4d4c-8d80-0a566cda1ed6",
   "metadata": {},
   "outputs": [
    {
     "name": "stdout",
     "output_type": "stream",
     "text": [
      "[[ 1.0531083   0.78475064  0.4587059   0.05486239 -0.18921703 -0.20802109\n",
      "  -0.09601423 -0.05261961  0.0558246   0.02186985]]\n"
     ]
    }
   ],
   "source": [
    "# demonstrate prediction\n",
    "x_input = ecg[100:200]\n",
    "x_input = x_input.reshape((1, n_steps_in, n_features))\n",
    "yhat = model.predict(x_input, verbose=0)\n",
    "print(yhat)"
   ]
  },
  {
   "cell_type": "code",
   "execution_count": 9,
   "id": "2f05d70f-cd56-4085-9769-8bab41f86399",
   "metadata": {},
   "outputs": [],
   "source": [
    "pl = np.append(ecg[100:200],yhat[0,:])"
   ]
  },
  {
   "cell_type": "code",
   "execution_count": 17,
   "id": "5a469363-e412-4a5a-bff6-600974dcaaa1",
   "metadata": {},
   "outputs": [
    {
     "data": {
      "text/plain": [
       "(1, 10)"
      ]
     },
     "execution_count": 17,
     "metadata": {},
     "output_type": "execute_result"
    }
   ],
   "source": [
    "yhat.shape"
   ]
  },
  {
   "cell_type": "code",
   "execution_count": 10,
   "id": "80c2084d-d783-461d-917d-33d78a0d1a1f",
   "metadata": {},
   "outputs": [
    {
     "data": {
      "text/plain": [
       "[<matplotlib.lines.Line2D at 0x1156b0f4b80>]"
      ]
     },
     "execution_count": 10,
     "metadata": {},
     "output_type": "execute_result"
    },
    {
     "data": {
      "image/png": "[encoded data removed]",
      "text/plain": [
       "<Figure size 576x432 with 1 Axes>"
      ]
     },
     "metadata": {
      "needs_background": "light"
     },
     "output_type": "display_data"
    }
   ],
   "source": [
    "plt.plot(pl)"
   ]
  }
 ],
 "metadata": {
  "kernelspec": {
   "display_name": "Python 3",
   "language": "python",
   "name": "python3"
  },
  "language_info": {
   "codemirror_mode": {
    "name": "ipython",
    "version": 3
   },
   "file_extension": ".py",
   "mimetype": "text/x-python",
   "name": "python",
   "nbconvert_exporter": "python",
   "pygments_lexer": "ipython3",
   "version": "3.8.12"
  },
  "toc-autonumbering": true,
  "toc-showcode": false,
  "toc-showmarkdowntxt": true
 },
 "nbformat": 4,
 "nbformat_minor": 5
}
