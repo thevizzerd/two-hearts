{
 "cells": [
  {
   "cell_type": "code",
   "execution_count": 11,
   "id": "80a8f98a-7b57-44ad-82dd-5a75e5dcba88",
   "metadata": {},
   "outputs": [],
   "source": [
    "from IPython.display import display\n",
    "import matplotlib.pyplot as plt\n",
    "%matplotlib inline\n",
    "import numpy as np\n",
    "import os\n",
    "import shutil\n",
    "import posixpath\n",
    "\n",
    "import wfdb"
   ]
  },
  {
   "cell_type": "code",
   "execution_count": 12,
   "id": "e9febdde-8e7b-4378-a4ce-0ab4c17e48b1",
   "metadata": {},
   "outputs": [],
   "source": [
    "# Create lists for iteration\n",
    "\n",
    "vpn_list = list(range(1,71))\n",
    "vpn_list_str = ['01','02','03','04','05','06','07','08','09'] + list(map(str, range(10, 71)))\n",
    "vpn_list_data = []\n",
    "for i in range(len(vpn_list)):\n",
    "    vpn_list_data_raw = 'sample-data/00{vpn_list_str}'\n",
    "    vpn_list_data_str = vpn_list_data_raw.format(vpn_list_str = vpn_list_str[i])\n",
    "    vpn_list_data.append(vpn_list_data_str)\n",
    "append_str = '.npy'\n",
    "vpn_list_file = [sub + append_str for sub in vpn_list_data]"
   ]
  },
  {
   "cell_type": "code",
   "execution_count": 13,
   "id": "7117034e-88e0-4752-9081-b87064f6bb3e",
   "metadata": {},
   "outputs": [],
   "source": [
    "# Demo 1 - Read a WFDB record using the 'rdrecord' function into a wfdb.Record object.\n",
    "# Plot the signals, and show the data.\n",
    "# record = wfdb.rdrecord('sample-data/0001', sampfrom=0, sampto=310000, channels=[1])\n",
    "# wfdb.plot_wfdb(record=record, title='Record 0001 from AA')\n",
    "\n",
    "#display(record.__dict__)\n",
    "#print(type(record))"
   ]
  },
  {
   "cell_type": "code",
   "execution_count": 15,
   "id": "0c0a1274",
   "metadata": {},
   "outputs": [],
   "source": [
    "for i in range(len(vpn_list)):\n",
    "    signals, fields = wfdb.rdsamp(vpn_list_data[i], channels=[1], sampfrom=0, sampto=320000)\n",
    "    signals = np.float32(signals)\n",
    "    np.save(vpn_list_file[i], signals)"
   ]
  }
 ],
 "metadata": {
  "kernelspec": {
   "display_name": "Python 3 (ipykernel)",
   "language": "python",
   "name": "python3"
  },
  "language_info": {
   "codemirror_mode": {
    "name": "ipython",
    "version": 3
   },
   "file_extension": ".py",
   "mimetype": "text/x-python",
   "name": "python",
   "nbconvert_exporter": "python",
   "pygments_lexer": "ipython3",
   "version": "3.9.7"
  }
 },
 "nbformat": 4,
 "nbformat_minor": 5
}
