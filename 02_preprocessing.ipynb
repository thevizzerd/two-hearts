{
 "cells": [
  {
   "cell_type": "code",
   "execution_count": 1,
   "id": "72de0e34",
   "metadata": {
    "colab": {
     "base_uri": "https://localhost:8080/"
    },
    "executionInfo": {
     "elapsed": 8224,
     "status": "ok",
     "timestamp": 1644151219347,
     "user": {
      "displayName": "",
      "photoUrl": "",
      "userId": ""
     },
     "user_tz": -60
    },
    "id": "SCWklgiDC-y3",
    "outputId": "53b856ef-31f7-44eb-9fd8-4b301222300e"
   },
   "outputs": [],
   "source": [
    "import warnings\n",
    "warnings.filterwarnings('ignore')\n",
    "\n",
    "# Load NeuroKit and other useful packages\n",
    "import os\n",
    "#!pip install neurokit2\n",
    "import neurokit2 as nk\n",
    "import numpy as np\n",
    "import pandas as pd\n",
    "import seaborn as sns\n",
    "import matplotlib.pyplot as plt\n",
    "%matplotlib inline\n",
    "plt.rcParams['figure.figsize'] = [10, 6]  # Bigger images"
   ]
  },
  {
   "cell_type": "code",
   "execution_count": 2,
   "id": "771f4cd8",
   "metadata": {
    "executionInfo": {
     "elapsed": 4,
     "status": "ok",
     "timestamp": 1644151221665,
     "user": {
      "displayName": "",
      "photoUrl": "",
      "userId": ""
     },
     "user_tz": -60
    },
    "id": "8orb2H6RC-y3"
   },
   "outputs": [],
   "source": [
    "sampling_rate = 1000"
   ]
  },
  {
   "cell_type": "code",
   "execution_count": 3,
   "id": "1e3004a1",
   "metadata": {
    "executionInfo": {
     "elapsed": 225,
     "status": "ok",
     "timestamp": 1644151395484,
     "user": {
      "displayName": "",
      "photoUrl": "",
      "userId": ""
     },
     "user_tz": -60
    },
    "id": "hArCISz3C-y4"
   },
   "outputs": [],
   "source": [
    "# Create lists for iteration\n",
    "\n",
    "vpn_list = list(range(1,71))\n",
    "vpn_list_str = ['01','02','03','04','05','06','07','08','09'] + list(map(str, range(10, 71)))\n",
    "append_str = \"v\"\n",
    "vpn = [append_str + sub for sub in vpn_list_str]\n",
    "\n",
    "vpn_list_data = []\n",
    "for i in range(len(vpn_list)):\n",
    "    vpn_list_data_raw = 'sample-data/00{vpn_list_str}'\n",
    "    vpn_list_data_str = vpn_list_data_raw.format(vpn_list_str = vpn_list_str[i])\n",
    "    vpn_list_data.append(vpn_list_data_str)\n",
    "\n",
    "append_str = '.npy'\n",
    "vpn_list_file = [sub + append_str for sub in vpn_list_data]\n",
    "\n",
    "append_str = 'drive/MyDrive/Masterarbeit/Code/two-hearts/'\n",
    "vpn_list_file_google = [append_str + sub for sub in vpn_list_file]"
   ]
  },
  {
   "cell_type": "code",
   "execution_count": 4,
   "id": "6662f741",
   "metadata": {
    "id": "wTfLbDRtC-y4"
   },
   "outputs": [
    {
     "data": {
      "text/plain": [
       "' AS DICTIONARY '"
      ]
     },
     "execution_count": 4,
     "metadata": {},
     "output_type": "execute_result"
    }
   ],
   "source": [
    "''' AS DICTIONARY '''\n",
    "\n",
    "# data = {}\n",
    "# for i in range(len(vpn_list)):\n",
    "#     data[vpn[i]] = np.load(vpn_list_file[i])\n",
    "\n",
    "# print(data.keys)\n",
    "# # print(a)\n",
    "# #print(a.items()) #prints keys and values\n",
    "# # print(data.keys()) #prints keys\n",
    "# # print(data.values()) #prints values\n",
    "\n",
    "# print(len(data[\"v02\"]))\n",
    "# #print(data[\"v02\"])"
   ]
  },
  {
   "cell_type": "code",
   "execution_count": 5,
   "id": "e5df53b9",
   "metadata": {
    "colab": {
     "base_uri": "https://localhost:8080/"
    },
    "executionInfo": {
     "elapsed": 41353,
     "status": "ok",
     "timestamp": 1644151467422,
     "user": {
      "displayName": "",
      "photoUrl": "",
      "userId": ""
     },
     "user_tz": -60
    },
    "id": "wmz11PzfC-y5",
    "outputId": "ebe99784-971c-415f-fa2d-74cf2041956d"
   },
   "outputs": [
    {
     "name": "stdout",
     "output_type": "stream",
     "text": [
      "(70, 320000)\n",
      "<class 'numpy.ndarray'>\n",
      "70\n",
      "[[-5.40546514e-02 -6.73756152e-02 -7.54788741e-02 ... -8.12697336e-02\n",
      "  -7.43325576e-02 -6.27508312e-02]\n",
      " [-1.11504100e-01 -2.24329799e-01 -3.51644188e-01 ...  1.36222959e-01\n",
      "   5.75141869e-02 -1.48313185e-02]\n",
      " [ 7.19785541e-02  6.49988204e-02  5.74737862e-02 ...  2.18116838e-04\n",
      "   1.52681787e-02  2.39383224e-02]\n",
      " ...\n",
      " [-7.48894691e+00  8.35463142e+00  7.83945274e+00 ...  8.49027634e+00\n",
      "   8.05241489e+00  7.99625826e+00]\n",
      " [-1.20854805e+02  9.52262974e+00  1.90112503e+02 ... -2.18874722e+01\n",
      "  -1.54426926e+02 -3.71576904e+02]\n",
      " [ 8.98728180e+01  9.12158966e+01  9.13373718e+01 ...  1.19475067e+02\n",
      "   1.19292282e+02  1.19139015e+02]]\n",
      "<class 'numpy.ndarray'>\n"
     ]
    }
   ],
   "source": [
    "''' AS NESTED LIST'''\n",
    "\n",
    "''' CHANGE EVERYTHING TO NP.APPEND !!!'''\n",
    "\n",
    "#test = np.load('drive/MyDrive/Masterarbeit/Code/two-hearts/sample-data/0004.npy')\n",
    "\n",
    "data_raw = [None]*len(vpn_list)\n",
    "\n",
    "for i in range(len(vpn_list)):\n",
    "    data_raw[i] = np.load(vpn_list_file[i])\n",
    "    #data_raw[i] = np.load(vpn_list_file_google[i])\n",
    "# print(data[0])\n",
    "\n",
    "data_raw[0].dtype\n",
    "\n",
    "data_raw = np.squeeze(data_raw)\n",
    "print(data_raw.shape)\n",
    "print(type(data_raw))\n",
    "print(len(data_raw))\n",
    "print((data_raw))\n",
    "data_raw.dtype\n",
    "print(type(data_raw))\n",
    "# data_raw.flatten()\n",
    "# print(data_raw)"
   ]
  },
  {
   "cell_type": "code",
   "execution_count": 6,
   "id": "bff35c98",
   "metadata": {
    "colab": {
     "base_uri": "https://localhost:8080/"
    },
    "executionInfo": {
     "elapsed": 3681,
     "status": "ok",
     "timestamp": 1644151481801,
     "user": {
      "displayName": "",
      "photoUrl": "",
      "userId": ""
     },
     "user_tz": -60
    },
    "id": "cHK_PFGzC-y6",
    "outputId": "0cbcbcfc-49ec-44f8-b278-7cb190241bf9"
   },
   "outputs": [
    {
     "name": "stdout",
     "output_type": "stream",
     "text": [
      "<class 'list'>\n",
      "<class 'numpy.ndarray'>\n",
      "<class 'numpy.ndarray'>\n"
     ]
    }
   ],
   "source": [
    "# Data cleaning AND normalization with nk2\n",
    "'''WARNING: NORMALIZATION OF ALL DATA (NOT WITH TEST SET)\n",
    "data = [None]*len(vpn_list)\n",
    "for i in range(len(vpn_list)):\n",
    "    a = data_clean[i]\n",
    "    a -= np.mean(a)\n",
    "    a /= np.std(a)\n",
    "    data[i] = a '''\n",
    "\n",
    "data_clean = [None]*len(vpn_list)\n",
    "\n",
    "for i in range(len(vpn_list)):\n",
    "    data_clean[i] = (nk.ecg_clean(data_raw[i], sampling_rate=1000, method=\"neurokit\"))\n",
    "\n",
    "print(type(data_clean))\n",
    "print(type(data_clean[1]))\n",
    "data_clean = np.array(data_clean)\n",
    "print(type(data_clean))\n",
    "\n",
    "data_1k = [None]*len(vpn_list)\n",
    "for i in range(len(vpn_list)):\n",
    "    temp = data_clean[i]\n",
    "    temp = temp[10000:310000] # some strange things can happen in the start in end of the cleaned signal with nk2\n",
    "    data_1k[i] = temp\n",
    "#plot = nk.ecg_plot(ecg_signals[:30000], sampling_rate=sampling_rate)\n"
   ]
  },
  {
   "cell_type": "code",
   "execution_count": 7,
   "id": "707e33ed",
   "metadata": {
    "colab": {
     "base_uri": "https://localhost:8080/"
    },
    "executionInfo": {
     "elapsed": 243,
     "status": "ok",
     "timestamp": 1644151487446,
     "user": {
      "displayName": "",
      "photoUrl": "",
      "userId": ""
     },
     "user_tz": -60
    },
    "id": "t1DFC8A6C-y6",
    "outputId": "bc75303d-b6d5-4828-b4cf-2fd1ef0d4883"
   },
   "outputs": [
    {
     "name": "stdout",
     "output_type": "stream",
     "text": [
      "70 300000 300000\n"
     ]
    }
   ],
   "source": [
    "length = [None]*len(vpn_list)\n",
    "for i in range(len(vpn_list)):\n",
    "    length[i] = len(data_1k[i])\n",
    "\n",
    "print(len(length), min(length), max(length))\n"
   ]
  },
  {
   "cell_type": "code",
   "execution_count": 8,
   "id": "718e2669",
   "metadata": {
    "executionInfo": {
     "elapsed": 7851,
     "status": "ok",
     "timestamp": 1644151497444,
     "user": {
      "displayName": "",
      "photoUrl": "",
      "userId": ""
     },
     "user_tz": -60
    },
    "id": "k3E3H2cxC-y7"
   },
   "outputs": [],
   "source": [
    "# Quality check\n",
    "quali = [\"str\"]*100\n",
    "for i in range(60): ### wtf when > 60\n",
    "    temp = nk.ecg_quality(data_1k[i], rpeaks=None, sampling_rate=1000, method=\"zhao2018\", approach=None) # fuzzy & simple approach\n",
    "    quali[i] = temp"
   ]
  },
  {
   "cell_type": "code",
   "execution_count": 9,
   "id": "5e5a552d",
   "metadata": {
    "colab": {
     "base_uri": "https://localhost:8080/"
    },
    "executionInfo": {
     "elapsed": 250,
     "status": "ok",
     "timestamp": 1644151502549,
     "user": {
      "displayName": "",
      "photoUrl": "",
      "userId": ""
     },
     "user_tz": -60
    },
    "id": "8FwhPVrOC-y7",
    "outputId": "17818fee-ee51-4c4d-a150-db3109a3cb14"
   },
   "outputs": [
    {
     "name": "stdout",
     "output_type": "stream",
     "text": [
      "0\n",
      "16\n",
      "20\n",
      "44\n"
     ]
    }
   ],
   "source": [
    "#print(quali)\n",
    "\n",
    "for i, j in enumerate(quali):\n",
    "    if j == 'Excellent':\n",
    "        print(i)        "
   ]
  },
  {
   "cell_type": "code",
   "execution_count": 10,
   "id": "d7aded7b",
   "metadata": {
    "colab": {
     "base_uri": "https://localhost:8080/",
     "height": 391
    },
    "executionInfo": {
     "elapsed": 678,
     "status": "ok",
     "timestamp": 1644151507250,
     "user": {
      "displayName": "",
      "photoUrl": "",
      "userId": ""
     },
     "user_tz": -60
    },
    "id": "zVKFwTUqC-y8",
    "outputId": "726a2543-5109-4dca-b2a2-7c7124eb6563"
   },
   "outputs": [
    {
     "data": {
      "text/plain": [
       "[<matplotlib.lines.Line2D at 0x2bb5c827310>]"
      ]
     },
     "execution_count": 10,
     "metadata": {},
     "output_type": "execute_result"
    },
    {
     "data": {
      "image/png": "[encoded data removed]",
      "text/plain": [
       "<Figure size 720x432 with 1 Axes>"
      ]
     },
     "metadata": {
      "needs_background": "light"
     },
     "output_type": "display_data"
    }
   ],
   "source": [
    "# plt.plot(data_raw[60[:100]])\n",
    "vpn_ = 0\n",
    "vpn_data = data_1k[vpn_]\n",
    "\n",
    "plt.plot(vpn_data[0:1000])\n",
    "\n",
    "# nk.ecg_intervalrelated(ecg_signals)\n"
   ]
  },
  {
   "cell_type": "code",
   "execution_count": 11,
   "id": "d185b21f",
   "metadata": {
    "executionInfo": {
     "elapsed": 244,
     "status": "ok",
     "timestamp": 1644151512013,
     "user": {
      "displayName": "",
      "photoUrl": "",
      "userId": ""
     },
     "user_tz": -60
    },
    "id": "xjSxb5DTC-y9"
   },
   "outputs": [],
   "source": [
    "# Downsampling to 100 Hz\n",
    "\n",
    "data = [None]*len(vpn_list)\n",
    "for i in range(len(vpn_list)):\n",
    "    temp = data_1k[i] \n",
    "    temp = temp[::10]\n",
    "    data[i] = temp"
   ]
  },
  {
   "cell_type": "code",
   "execution_count": 12,
   "id": "f7e02651",
   "metadata": {
    "colab": {
     "base_uri": "https://localhost:8080/"
    },
    "executionInfo": {
     "elapsed": 244,
     "status": "ok",
     "timestamp": 1644151514369,
     "user": {
      "displayName": "",
      "photoUrl": "",
      "userId": ""
     },
     "user_tz": -60
    },
    "id": "Ad_mdQdXC-y9",
    "outputId": "801ced49-5a63-4937-cc90-41908eb22fc9"
   },
   "outputs": [
    {
     "name": "stdout",
     "output_type": "stream",
     "text": [
      "30000\n",
      "300000\n",
      "70\n"
     ]
    }
   ],
   "source": [
    "print(len(data[1]))\n",
    "print(len(data_1k[1]))\n",
    "\n",
    "print(len(data_1k))"
   ]
  },
  {
   "cell_type": "code",
   "execution_count": 13,
   "id": "943dcec0",
   "metadata": {
    "colab": {
     "base_uri": "https://localhost:8080/"
    },
    "executionInfo": {
     "elapsed": 246,
     "status": "ok",
     "timestamp": 1644151517140,
     "user": {
      "displayName": "",
      "photoUrl": "",
      "userId": ""
     },
     "user_tz": -60
    },
    "id": "0j3F8mcDC-y9",
    "outputId": "2ba38185-13b4-44e0-a088-c81592e5413c"
   },
   "outputs": [
    {
     "name": "stdout",
     "output_type": "stream",
     "text": [
      "Excellent\n",
      "Excellent\n"
     ]
    }
   ],
   "source": [
    "print(nk.ecg_quality(data_1k[0], rpeaks=None, sampling_rate=1000, method=\"zhao2018\", approach=None)) # fuzzy & simple approach\n",
    "print(nk.ecg_quality(data[0], rpeaks=None, sampling_rate=100, method=\"zhao2018\", approach=None)) # fuzzy & simple approach\n"
   ]
  },
  {
   "cell_type": "code",
   "execution_count": 14,
   "id": "a291c55f",
   "metadata": {
    "colab": {
     "base_uri": "https://localhost:8080/"
    },
    "executionInfo": {
     "elapsed": 227,
     "status": "ok",
     "timestamp": 1644151519327,
     "user": {
      "displayName": "",
      "photoUrl": "",
      "userId": ""
     },
     "user_tz": -60
    },
    "id": "TZtKCaISC-y-",
    "outputId": "d2c6ec52-fd92-402d-ff7b-34f1ea863aed"
   },
   "outputs": [
    {
     "name": "stdout",
     "output_type": "stream",
     "text": [
      "<class 'list'>\n",
      "float64\n",
      "<class 'numpy.ndarray'>\n",
      "float32\n",
      "float32\n"
     ]
    },
    {
     "data": {
      "text/plain": [
       "(30000,)"
      ]
     },
     "execution_count": 14,
     "metadata": {},
     "output_type": "execute_result"
    }
   ],
   "source": [
    "print(type(data))\n",
    "print((data[1].dtype))\n",
    "\n",
    "data = np.array(data, dtype=\"float32\")\n",
    "print(type(data))\n",
    "print((data.dtype))\n",
    "print((data[1].dtype))\n",
    "\n",
    "data.shape\n",
    "data[0].shape\n",
    "\n",
    "#ecg_clean.to_csv('data.csv')  "
   ]
  },
  {
   "cell_type": "code",
   "execution_count": 20,
   "id": "ac6722ec",
   "metadata": {},
   "outputs": [],
   "source": [
    "np.save('data0.npy',data[0])\n",
    "np.save('data16.npy',data[16])"
   ]
  }
 ],
 "metadata": {
  "kernelspec": {
   "display_name": "Python 3 (ipykernel)",
   "language": "python",
   "name": "python3"
  },
  "language_info": {
   "codemirror_mode": {
    "name": "ipython",
    "version": 3
   },
   "file_extension": ".py",
   "mimetype": "text/x-python",
   "name": "python",
   "nbconvert_exporter": "python",
   "pygments_lexer": "ipython3",
   "version": "3.8.12"
  }
 },
 "nbformat": 4,
 "nbformat_minor": 5
}
